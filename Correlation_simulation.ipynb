{
 "cells": [
  {
   "cell_type": "markdown",
   "metadata": {},
   "source": [
    "Generate synthetic dataset and look for correlations"
   ]
  },
  {
   "cell_type": "code",
   "execution_count": 112,
   "metadata": {
    "collapsed": false
   },
   "outputs": [],
   "source": [
    "import numpy\n",
    "import nibabel\n",
    "import os\n",
    "import nilearn.plotting\n",
    "import matplotlib.pyplot as plt\n",
    "from statsmodels.regression.linear_model import OLS\n",
    "import nipype.interfaces.fsl as fsl\n",
    "import scipy.stats\n",
    "\n",
    "%matplotlib inline\n",
    "try:\n",
    "    corrs\n",
    "except:\n",
    "    corrs={}\n",
    "\n",
    "if 1:\n",
    "    numpy.random.seed(85077)\n",
    "else:\n",
    "    seed=numpy.ceil(numpy.random.rand()*100000)\n",
    "    numpy.random.seed(seed.astype('int'))\n",
    "\n",
    "pthresh=0.005\n",
    "cthresh=50"
   ]
  },
  {
   "cell_type": "code",
   "execution_count": 113,
   "metadata": {
    "collapsed": false
   },
   "outputs": [
    {
     "data": {
      "text/plain": [
       "<nipype.interfaces.base.InterfaceResult at 0x10abefcd0>"
      ]
     },
     "execution_count": 113,
     "metadata": {},
     "output_type": "execute_result"
    }
   ],
   "source": [
    "maskimg=os.path.join(os.getenv('FSLDIR'),'data/standard/MNI152_T1_2mm_brain_mask.nii.gz')\n",
    "mask=nibabel.load(maskimg)\n",
    "maskdata=mask.get_data()\n",
    "maskvox=numpy.where(maskdata>0)\n",
    "nsubs=24\n",
    "data=numpy.zeros((maskdata.shape + (nsubs,)))\n",
    "data2=numpy.zeros((maskdata.shape + (nsubs,)))\n",
    "imgmean=1000\n",
    "\n",
    "for i in range(nsubs):\n",
    "    tmp=numpy.zeros(maskdata.shape)\n",
    "    tmp[maskvox]=numpy.random.randn(len(maskvox[0]))*100+imgmean\n",
    "    data[:,:,:,i]=tmp\n",
    "    tmp[maskvox]=numpy.random.randn(len(maskvox[0]))*100+imgmean\n",
    "    data2[:,:,:,i]=tmp\n",
    "\n",
    "newimg=nibabel.Nifti1Image(data,mask.get_affine(),mask.get_header())\n",
    "newimg.to_filename('fakedata.nii.gz')\n",
    "regressor=numpy.random.randn(nsubs,1)+100\n",
    "numpy.savetxt('regressor.txt',regressor)\n",
    "\n",
    "# smooth data\n",
    "smooth=fsl.IsotropicSmooth(fwhm=6,in_file='fakedata.nii.gz',out_file='fakedata_smooth.nii.gz')\n",
    "smooth.run()\n"
   ]
  },
  {
   "cell_type": "code",
   "execution_count": 114,
   "metadata": {
    "collapsed": false
   },
   "outputs": [
    {
     "data": {
      "text/plain": [
       "<nipype.interfaces.base.InterfaceResult at 0x1214ee650>"
      ]
     },
     "execution_count": 114,
     "metadata": {},
     "output_type": "execute_result"
    }
   ],
   "source": [
    "# run stats\n",
    "glm = fsl.GLM(in_file='fakedata_smooth.nii.gz', \n",
    "              design='regressor.txt', \n",
    "              out_t_name='regressor_tstat.nii.gz',\n",
    "             demean=True)\n",
    "glm.run()"
   ]
  },
  {
   "cell_type": "code",
   "execution_count": 115,
   "metadata": {
    "collapsed": false
   },
   "outputs": [
    {
     "name": "stderr",
     "output_type": "stream",
     "text": [
      "INFO:interface:stdout 2015-11-11T10:31:26.464784:Cluster Index\tVoxels\tMAX\tMAX X (vox)\tMAX Y (vox)\tMAX Z (vox)\tCOG X (vox)\tCOG Y (vox)\tCOG Z (vox)\n",
      "INFO:interface:stdout 2015-11-11T10:31:26.464784:217\t70\t5.41\t55\t85\t52\t56.1\t85.5\t52.6\n",
      "INFO:interface:stdout 2015-11-11T10:31:26.464784:216\t68\t4.36\t57\t26\t3\t55.9\t28.3\t4.08\n",
      "INFO:interface:stdout 2015-11-11T10:31:26.464784:215\t54\t4.23\t66\t71\t64\t66.3\t73.3\t64.5\n",
      "INFO:interface:stdout 2015-11-11T10:31:26.464784:214\t42\t4.15\t36\t96\t48\t35.6\t97\t47.5\n",
      "INFO:interface:stdout 2015-11-11T10:31:26.464784:213\t38\t4.74\t18\t42\t13\t17.4\t41.6\t13.1\n",
      "INFO:interface:stdout 2015-11-11T10:31:26.464784:212\t34\t5.45\t50\t41\t59\t49.4\t40.8\t59\n",
      "INFO:interface:stdout 2015-11-11T10:31:26.464784:211\t33\t5.59\t30\t32\t55\t30\t32.1\t54.9\n",
      "INFO:interface:stdout 2015-11-11T10:31:26.464784:210\t33\t4.64\t22\t46\t49\t20.9\t46\t49.2\n",
      "INFO:interface:stdout 2015-11-11T10:31:26.464784:209\t32\t4.57\t35\t48\t37\t35.7\t48.6\t36.9\n",
      "INFO:interface:stdout 2015-11-11T10:31:26.464784:208\t31\t3.85\t50\t33\t76\t50.3\t33.2\t75.1\n",
      "INFO:interface:stdout 2015-11-11T10:31:26.464784:207\t29\t4.69\t21\t69\t68\t21.9\t69.7\t67.2\n",
      "INFO:interface:stdout 2015-11-11T10:31:26.464784:206\t28\t3.55\t59\t63\t13\t55.9\t62.8\t11.7\n",
      "INFO:interface:stdout 2015-11-11T10:31:26.464784:205\t27\t3.6\t18\t85\t27\t17.9\t84.3\t26.7\n",
      "INFO:interface:stdout 2015-11-11T10:31:26.464784:204\t24\t3.7\t18\t33\t66\t18.8\t32.8\t65\n",
      "INFO:interface:stdout 2015-11-11T10:31:26.464784:203\t23\t4.39\t67\t73\t56\t67.9\t72.2\t56.3\n",
      "INFO:interface:stdout 2015-11-11T10:31:26.473448:202\t23\t5.01\t45\t68\t39\t44.7\t67.7\t38.8\n",
      "INFO:interface:stdout 2015-11-11T10:31:26.473448:201\t23\t4.02\t43\t89\t34\t43.1\t89.7\t34.1\n",
      "INFO:interface:stdout 2015-11-11T10:31:26.473448:200\t22\t5.29\t55\t91\t43\t54.6\t91.7\t42.4\n",
      "INFO:interface:stdout 2015-11-11T10:31:26.473448:199\t21\t4.71\t75\t30\t35\t75\t30.2\t34.7\n",
      "INFO:interface:stdout 2015-11-11T10:31:26.473448:198\t21\t3.63\t22\t79\t24\t22.4\t77.8\t23.7\n",
      "INFO:interface:stdout 2015-11-11T10:31:26.473448:197\t21\t5.18\t34\t84\t21\t34.9\t83.6\t21.7\n",
      "INFO:interface:stdout 2015-11-11T10:31:26.473448:196\t20\t4.32\t55\t61\t31\t55.1\t61.2\t31.8\n",
      "INFO:interface:stdout 2015-11-11T10:31:26.473448:195\t19\t3.94\t10\t42\t50\t9.27\t41.5\t50.3\n",
      "INFO:interface:stdout 2015-11-11T10:31:26.473448:194\t19\t3.83\t9\t57\t41\t8.42\t56.4\t41.4\n",
      "INFO:interface:stdout 2015-11-11T10:31:26.473448:193\t17\t3.85\t64\t54\t65\t64.5\t54.3\t64.2\n",
      "INFO:interface:stdout 2015-11-11T10:31:26.473448:192\t17\t5.57\t44\t14\t35\t44\t14\t35.3\n",
      "INFO:interface:stdout 2015-11-11T10:31:26.473448:191\t16\t4.04\t25\t28\t58\t25.2\t28.6\t58.5\n",
      "INFO:interface:stdout 2015-11-11T10:31:26.473448:190\t16\t3.57\t33\t75\t40\t33.9\t74.7\t41.4\n",
      "INFO:interface:stdout 2015-11-11T10:31:26.473448:189\t16\t3.71\t67\t24\t26\t66.4\t24.1\t26.9\n",
      "INFO:interface:stdout 2015-11-11T10:31:26.473448:188\t16\t3.75\t60\t67\t23\t58.8\t66.9\t22.7\n",
      "INFO:interface:stdout 2015-11-11T10:31:26.473448:187\t16\t3.93\t45\t50\t13\t45.4\t49.5\t13.8\n",
      "INFO:interface:stdout 2015-11-11T10:31:26.473448:186\t15\t4.5\t41\t47\t59\t41.7\t47.6\t59.2\n",
      "INFO:interface:stdout 2015-11-11T10:31:26.473448:185\t14\t3.67\t48\t65\t56\t48.1\t65.8\t55.9\n",
      "INFO:interface:stdout 2015-11-11T10:31:26.473448:184\t14\t4.22\t33\t56\t48\t33.1\t56.7\t47.7\n",
      "INFO:interface:stdout 2015-11-11T10:31:26.473448:183\t14\t4.75\t59\t28\t37\t59.1\t28.7\t37.3\n",
      "INFO:interface:stdout 2015-11-11T10:31:26.473448:182\t14\t3.33\t65\t67\t34\t64.8\t67.2\t34.2\n",
      "INFO:interface:stdout 2015-11-11T10:31:26.473448:181\t13\t3.73\t64\t39\t73\t64.1\t39.5\t73\n",
      "INFO:interface:stdout 2015-11-11T10:31:26.473448:180\t13\t3.33\t14\t27\t43\t13.6\t27.3\t42.7\n",
      "INFO:interface:stdout 2015-11-11T10:31:26.473448:179\t13\t3.28\t23\t96\t35\t23.6\t95.9\t35.5\n",
      "INFO:interface:stdout 2015-11-11T10:31:26.473448:178\t13\t3.43\t57\t46\t30\t58\t46.7\t30.3\n",
      "INFO:interface:stdout 2015-11-11T10:31:26.473448:177\t12\t3.43\t70\t19\t49\t69.8\t19.4\t48.8\n",
      "INFO:interface:stdout 2015-11-11T10:31:26.473448:176\t12\t4.03\t74\t42\t44\t74.8\t41.7\t43.5\n",
      "INFO:interface:stdout 2015-11-11T10:31:26.473448:175\t12\t3.47\t26\t45\t16\t26.7\t44.2\t16.5\n",
      "INFO:interface:stdout 2015-11-11T10:31:26.473448:174\t11\t3.49\t32\t61\t73\t32.1\t61.5\t73.2\n",
      "INFO:interface:stdout 2015-11-11T10:31:26.473448:173\t11\t4.78\t47\t77\t60\t47\t76.6\t59.6\n",
      "INFO:interface:stdout 2015-11-11T10:31:26.473448:172\t11\t3.95\t29\t77\t31\t28.9\t76.7\t30.8\n",
      "INFO:interface:stdout 2015-11-11T10:31:26.473448:171\t10\t3.64\t30\t53\t77\t30.7\t52.6\t76.4\n",
      "INFO:interface:stdout 2015-11-11T10:31:26.473448:170\t10\t3.76\t56\t74\t64\t55.9\t73.8\t63.7\n",
      "INFO:interface:stdout 2015-11-11T10:31:26.473448:169\t10\t3.26\t15\t38\t59\t15.3\t37.2\t58.4\n",
      "INFO:interface:stdout 2015-11-11T10:31:26.473448:168\t10\t4.04\t42\t51\t58\t42.5\t52\t57.6\n",
      "INFO:interface:stdout 2015-11-11T10:31:26.473448:167\t10\t4.18\t70\t44\t48\t69.4\t43.8\t47.9\n",
      "INFO:interface:stdout 2015-11-11T10:31:26.473448:166\t10\t4.36\t29\t37\t48\t28.8\t36.9\t48.2\n",
      "INFO:interface:stdout 2015-11-11T10:31:26.473448:165\t10\t3.26\t20\t67\t11\t19.9\t67.1\t10.9\n",
      "INFO:interface:stdout 2015-11-11T10:31:26.473448:164\t10\t3.22\t38\t32\t1\t38.4\t32.6\t1.59\n",
      "INFO:interface:stdout 2015-11-11T10:31:26.473448:163\t9\t3.2\t72\t75\t56\t72.1\t74.8\t55.7\n",
      "INFO:interface:stdout 2015-11-11T10:31:26.473448:162\t9\t3.73\t72\t49\t52\t72.1\t48.6\t52.4\n",
      "INFO:interface:stdout 2015-11-11T10:31:26.473448:161\t9\t3.33\t70\t90\t39\t70.1\t89.8\t39.2\n",
      "INFO:interface:stdout 2015-11-11T10:31:26.473448:160\t9\t3.38\t68\t50\t40\t67.8\t49.7\t39.1\n",
      "INFO:interface:stdout 2015-11-11T10:31:26.473448:159\t9\t3.43\t76\t44\t32\t76.5\t44.2\t32.2\n",
      "INFO:interface:stdout 2015-11-11T10:31:26.473448:158\t9\t4.05\t22\t33\t31\t23.2\t34.7\t31.1\n",
      "INFO:interface:stdout 2015-11-11T10:31:26.473448:157\t9\t3.38\t71\t56\t29\t70.2\t54.9\t28.7\n",
      "INFO:interface:stdout 2015-11-11T10:31:26.473448:156\t9\t3.46\t76\t31\t19\t75.2\t31.7\t18.6\n",
      "INFO:interface:stdout 2015-11-11T10:31:26.473448:155\t8\t3.43\t60\t58\t72\t59.4\t58.1\t71.4\n",
      "INFO:interface:stdout 2015-11-11T10:31:26.473448:154\t8\t3.19\t21\t79\t61\t22.7\t78\t60.3\n",
      "INFO:interface:stdout 2015-11-11T10:31:26.473448:153\t8\t3.96\t55\t76\t55\t54.9\t75.8\t54.4\n",
      "INFO:interface:stdout 2015-11-11T10:31:26.473448:152\t8\t3.7\t46\t19\t36\t46.4\t19\t36\n",
      "INFO:interface:stdout 2015-11-11T10:31:26.473448:151\t8\t3.83\t44\t24\t31\t44.3\t24.4\t30.9\n",
      "INFO:interface:stdout 2015-11-11T10:31:26.473448:150\t8\t3.3\t26\t67\t29\t23.9\t67\t28.8\n",
      "INFO:interface:stdout 2015-11-11T10:31:26.473448:149\t8\t3.36\t33\t14\t29\t33.5\t14.2\t29.2\n",
      "INFO:interface:stdout 2015-11-11T10:31:26.473448:148\t8\t3.24\t28\t24\t16\t28\t23.6\t15.8\n",
      "INFO:interface:stdout 2015-11-11T10:31:26.473448:147\t7\t3.12\t32\t73\t48\t31.9\t72.4\t48.1\n",
      "INFO:interface:stdout 2015-11-11T10:31:26.473448:146\t7\t4.3\t46\t19\t28\t45.8\t19.1\t28\n",
      "INFO:interface:stdout 2015-11-11T10:31:26.473448:145\t7\t3.39\t39\t67\t25\t39\t67.4\t25.6\n",
      "INFO:interface:stdout 2015-11-11T10:31:26.473448:144\t7\t3.42\t60\t46\t21\t59.6\t46.4\t20.6\n",
      "INFO:interface:stdout 2015-11-11T10:31:26.473448:143\t7\t4.19\t40\t44\t19\t40.4\t44.6\t19.4\n",
      "INFO:interface:stdout 2015-11-11T10:31:26.473448:142\t6\t3.24\t58\t15\t56\t57.5\t15.3\t56.3\n",
      "INFO:interface:stdout 2015-11-11T10:31:26.473448:141\t6\t3.52\t56\t32\t53\t56.3\t32.8\t52.7\n",
      "INFO:interface:stdout 2015-11-11T10:31:26.473448:140\t6\t2.99\t33\t34\t50\t33.2\t34.3\t50.2\n",
      "INFO:interface:stdout 2015-11-11T10:31:26.473448:139\t6\t3.49\t59\t44\t41\t58.5\t43.7\t41.5\n",
      "INFO:interface:stdout 2015-11-11T10:31:26.473448:138\t6\t3.17\t27\t21\t39\t27.5\t20.8\t38.5\n",
      "INFO:interface:stdout 2015-11-11T10:31:26.473448:137\t6\t3.67\t67\t31\t26\t67\t31.6\t26.6\n",
      "INFO:interface:stdout 2015-11-11T10:31:26.473448:136\t6\t3.09\t55\t44\t22\t56.3\t44.2\t21.7\n",
      "INFO:interface:stdout 2015-11-11T10:31:26.473448:135\t6\t3.83\t43\t24\t18\t43.7\t23.7\t18.1\n",
      "INFO:interface:stdout 2015-11-11T10:31:26.473448:134\t5\t3.14\t31\t56\t64\t31.4\t56\t64.6\n",
      "INFO:interface:stdout 2015-11-11T10:31:26.473448:133\t5\t2.98\t60\t60\t45\t60.4\t59.8\t44.6\n",
      "INFO:interface:stdout 2015-11-11T10:31:26.473448:132\t5\t3.41\t47\t43\t37\t47\t43.2\t37.4\n",
      "INFO:interface:stdout 2015-11-11T10:31:26.473448:131\t5\t3.21\t41\t82\t37\t41.6\t82.2\t36.4\n",
      "INFO:interface:stdout 2015-11-11T10:31:26.473448:130\t5\t2.91\t56\t59\t38\t56.4\t59.6\t37.2\n",
      "INFO:interface:stdout 2015-11-11T10:31:26.473448:129\t5\t3.4\t60\t33\t35\t59.8\t33\t35.4\n",
      "INFO:interface:stdout 2015-11-11T10:31:26.473448:128\t5\t3.47\t28\t57\t35\t27.4\t57.2\t34.4\n",
      "INFO:interface:stdout 2015-11-11T10:31:26.473448:127\t5\t3.93\t44\t61\t31\t44.2\t61.4\t31.6\n",
      "INFO:interface:stdout 2015-11-11T10:31:26.473448:126\t5\t3.15\t49\t45\t30\t48.6\t44.8\t30.4\n",
      "INFO:interface:stdout 2015-11-11T10:31:26.473448:125\t5\t3.45\t44\t93\t30\t43.2\t93.2\t29.8\n",
      "INFO:interface:stdout 2015-11-11T10:31:26.473448:124\t5\t3.49\t56\t86\t27\t55.8\t85.4\t27.4\n",
      "INFO:interface:stdout 2015-11-11T10:31:26.473448:123\t5\t3.43\t73\t66\t26\t72.6\t65.8\t26.4\n",
      "INFO:interface:stdout 2015-11-11T10:31:26.473448:122\t5\t3.45\t24\t68\t25\t23.6\t68.4\t25.2\n",
      "INFO:interface:stdout 2015-11-11T10:31:26.473448:121\t5\t3.39\t24\t48\t20\t23.6\t48\t19.8\n",
      "INFO:interface:stdout 2015-11-11T10:31:26.473448:120\t5\t3.28\t23\t39\t19\t22.8\t38.4\t19.4\n",
      "INFO:interface:stdout 2015-11-11T10:31:26.473448:119\t5\t3.4\t51\t41\t7\t51.2\t41\t7.57\n",
      "INFO:interface:stdout 2015-11-11T10:31:26.473448:118\t4\t3.84\t54\t39\t69\t53.5\t39.2\t69.2\n",
      "INFO:interface:stdout 2015-11-11T10:31:26.473448:117\t4\t3.47\t71\t68\t59\t70.5\t68\t58.5\n",
      "INFO:interface:stdout 2015-11-11T10:31:26.473448:116\t4\t3.85\t58\t54\t54\t58.5\t54.5\t54\n",
      "INFO:interface:stdout 2015-11-11T10:31:26.473448:115\t4\t3\t56\t96\t51\t55.8\t95.5\t51.3\n",
      "INFO:interface:stdout 2015-11-11T10:31:26.473448:114\t4\t3.52\t25\t39\t49\t24.5\t39\t49.5\n",
      "INFO:interface:stdout 2015-11-11T10:31:26.473448:113\t4\t2.91\t19\t51\t48\t19.2\t50.7\t48.2\n",
      "INFO:interface:stdout 2015-11-11T10:31:26.473448:112\t4\t3.32\t11\t54\t45\t11.2\t53.7\t44.5\n",
      "INFO:interface:stdout 2015-11-11T10:31:26.473448:111\t4\t3.72\t66\t55\t37\t65.5\t54.8\t37.2\n",
      "INFO:interface:stdout 2015-11-11T10:31:26.473448:110\t4\t3.45\t60\t14\t33\t59.3\t13.8\t33.5\n",
      "INFO:interface:stdout 2015-11-11T10:31:26.473448:109\t4\t3.2\t36\t76\t28\t36.2\t75.8\t28.2\n",
      "INFO:interface:stdout 2015-11-11T10:31:26.473448:108\t4\t3.43\t16\t58\t20\t16\t57.5\t20.5\n",
      "INFO:interface:stdout 2015-11-11T10:31:26.473448:107\t4\t3.14\t59\t69\t16\t59\t69.7\t15\n",
      "INFO:interface:stdout 2015-11-11T10:31:26.473448:106\t3\t3.47\t38\t70\t70\t38\t70\t71\n",
      "INFO:interface:stdout 2015-11-11T10:31:26.473448:105\t3\t3.08\t50\t32\t63\t50.3\t31.3\t63\n",
      "INFO:interface:stdout 2015-11-11T10:31:26.473448:104\t3\t3.43\t24\t70\t61\t24.3\t70\t61.3\n",
      "INFO:interface:stdout 2015-11-11T10:31:26.473448:103\t3\t2.92\t64\t74\t54\t63.3\t73.7\t54\n",
      "INFO:interface:stdout 2015-11-11T10:31:26.473448:102\t3\t3.78\t41\t59\t53\t40.7\t59.7\t53\n",
      "INFO:interface:stdout 2015-11-11T10:31:26.473448:101\t3\t3.04\t69\t69\t53\t69\t68.7\t52.3\n",
      "INFO:interface:stdout 2015-11-11T10:31:26.473448:100\t3\t3.21\t23\t28\t51\t23\t27.7\t50.3\n",
      "INFO:interface:stdout 2015-11-11T10:31:26.473448:99\t3\t3.18\t25\t66\t47\t25\t65.7\t46.7\n",
      "INFO:interface:stdout 2015-11-11T10:31:26.473448:98\t3\t2.96\t76\t73\t44\t76.3\t73.3\t44\n",
      "INFO:interface:stdout 2015-11-11T10:31:26.473448:97\t3\t3.71\t66\t40\t43\t66\t39.7\t43.3\n",
      "INFO:interface:stdout 2015-11-11T10:31:26.473448:96\t3\t3.11\t61\t80\t38\t61.3\t80\t38.7\n",
      "INFO:interface:stdout 2015-11-11T10:31:26.473448:95\t3\t3.13\t64\t18\t35\t64\t18.3\t35.3\n",
      "INFO:interface:stdout 2015-11-11T10:31:26.473448:94\t3\t2.92\t16\t32\t33\t16.3\t33\t33.7\n",
      "INFO:interface:stdout 2015-11-11T10:31:26.473448:93\t3\t3.1\t43\t74\t28\t43\t73.7\t27.3\n",
      "INFO:interface:stdout 2015-11-11T10:31:26.473448:92\t3\t3.4\t45\t56\t23\t44.7\t55.4\t23\n",
      "INFO:interface:stdout 2015-11-11T10:31:26.473448:91\t3\t3.05\t32\t63\t22\t32\t62.3\t22.3\n",
      "INFO:interface:stdout 2015-11-11T10:31:26.473448:90\t3\t3.4\t36\t39\t16\t36\t38.7\t16.6\n",
      "INFO:interface:stdout 2015-11-11T10:31:26.473448:89\t3\t2.94\t23\t40\t15\t23.7\t40\t15.3\n",
      "INFO:interface:stdout 2015-11-11T10:31:26.473448:88\t3\t3.09\t32\t34\t16\t31.3\t34\t15.7\n",
      "INFO:interface:stdout 2015-11-11T10:31:26.473448:87\t3\t3.36\t29\t34\t14\t28.7\t34.3\t14\n",
      "INFO:interface:stdout 2015-11-11T10:31:26.473448:86\t3\t3.17\t27\t28\t11\t27.3\t28.7\t11\n",
      "INFO:interface:stdout 2015-11-11T10:31:26.473448:85\t2\t2.96\t47\t52\t69\t46.5\t52\t69\n",
      "INFO:interface:stdout 2015-11-11T10:31:26.473448:84\t2\t2.86\t61\t34\t69\t61\t34\t69.5\n",
      "INFO:interface:stdout 2015-11-11T10:31:26.473448:83\t2\t2.91\t46\t85\t68\t46\t85\t67.5\n",
      "INFO:interface:stdout 2015-11-11T10:31:26.563137:82\t2\t2.96\t63\t50\t63\t63.5\t50\t63\n",
      "INFO:interface:stdout 2015-11-11T10:31:26.563137:81\t2\t2.92\t37\t65\t63\t37\t65\t62.5\n",
      "INFO:interface:stdout 2015-11-11T10:31:26.563137:80\t2\t3.02\t23\t82\t59\t22.5\t82\t59\n",
      "INFO:interface:stdout 2015-11-11T10:31:26.563137:79\t2\t3.57\t64\t29\t53\t64.5\t29\t53\n",
      "INFO:interface:stdout 2015-11-11T10:31:26.563137:78\t2\t2.9\t24\t26\t53\t24\t26\t53.5\n",
      "INFO:interface:stdout 2015-11-11T10:31:26.563137:77\t2\t3.04\t28\t84\t51\t27.5\t84\t51\n",
      "INFO:interface:stdout 2015-11-11T10:31:26.563137:76\t2\t3.32\t41\t78\t51\t41\t77.5\t51\n",
      "INFO:interface:stdout 2015-11-11T10:31:26.563137:75\t2\t2.94\t65\t39\t52\t65\t38.5\t51.5\n",
      "INFO:interface:stdout 2015-11-11T10:31:26.563137:74\t2\t3\t71\t31\t51\t71\t31\t50.5\n",
      "INFO:interface:stdout 2015-11-11T10:31:26.563137:73\t2\t2.88\t22\t82\t49\t22.5\t81.5\t49\n",
      "INFO:interface:stdout 2015-11-11T10:31:26.563137:72\t2\t2.84\t27\t73\t50\t27\t73\t49.5\n",
      "INFO:interface:stdout 2015-11-11T10:31:26.563137:71\t2\t2.91\t46\t49\t50\t46\t48.5\t49.5\n",
      "INFO:interface:stdout 2015-11-11T10:31:26.563137:70\t2\t3.05\t47\t44\t49\t47\t44.5\t49.5\n",
      "INFO:interface:stdout 2015-11-11T10:31:26.563137:69\t2\t3.07\t43\t19\t49\t43.5\t19\t49.5\n",
      "INFO:interface:stdout 2015-11-11T10:31:26.563137:68\t2\t2.99\t53\t54\t45\t53\t53.5\t45\n",
      "INFO:interface:stdout 2015-11-11T10:31:26.563137:67\t2\t3.14\t28\t29\t44\t28\t29.5\t44\n",
      "INFO:interface:stdout 2015-11-11T10:31:26.563137:66\t2\t2.91\t54\t61\t43\t54\t60.5\t43\n",
      "INFO:interface:stdout 2015-11-11T10:31:26.563137:65\t2\t3.07\t33\t60\t43\t33\t60\t42.5\n",
      "INFO:interface:stdout 2015-11-11T10:31:26.563137:64\t2\t2.93\t21\t58\t39\t21.5\t58\t39\n",
      "INFO:interface:stdout 2015-11-11T10:31:26.563137:63\t2\t3.3\t41\t47\t39\t40.5\t47\t39\n",
      "INFO:interface:stdout 2015-11-11T10:31:26.563137:62\t2\t2.97\t53\t32\t38\t53.5\t32\t38\n",
      "INFO:interface:stdout 2015-11-11T10:31:26.563137:61\t2\t3.16\t23\t64\t37\t23\t64.5\t37.5\n",
      "INFO:interface:stdout 2015-11-11T10:31:26.563137:60\t2\t3.58\t22\t69\t37\t22\t69\t36.5\n",
      "INFO:interface:stdout 2015-11-11T10:31:26.563137:59\t2\t2.99\t30\t48\t36\t30.5\t48\t36.5\n",
      "INFO:interface:stdout 2015-11-11T10:31:26.563137:58\t2\t3.18\t47\t70\t34\t46.5\t70\t34\n",
      "INFO:interface:stdout 2015-11-11T10:31:26.563137:57\t2\t2.99\t57\t32\t32\t57\t32\t31.5\n",
      "INFO:interface:stdout 2015-11-11T10:31:26.563137:56\t2\t2.98\t39\t31\t31\t39\t31\t30.5\n",
      "INFO:interface:stdout 2015-11-11T10:31:26.563137:55\t2\t3.08\t52\t96\t29\t52\t96\t29.5\n",
      "INFO:interface:stdout 2015-11-11T10:31:26.563137:54\t2\t3.22\t29\t98\t28\t29\t98.5\t28\n",
      "INFO:interface:stdout 2015-11-11T10:31:26.563137:53\t2\t3.62\t19\t39\t26\t19\t39\t26.5\n",
      "INFO:interface:stdout 2015-11-11T10:31:26.563137:52\t2\t3.08\t38\t77\t25\t38\t77\t25.5\n",
      "INFO:interface:stdout 2015-11-11T10:31:26.563137:51\t2\t3.19\t35\t72\t23\t35.5\t72\t23\n",
      "INFO:interface:stdout 2015-11-11T10:31:26.563137:50\t2\t3.04\t39\t20\t22\t39\t20.5\t22\n",
      "INFO:interface:stdout 2015-11-11T10:31:26.563137:49\t2\t2.92\t62\t33\t21\t62\t33.5\t21\n",
      "INFO:interface:stdout 2015-11-11T10:31:26.563137:48\t2\t3.02\t32\t42\t11\t31.5\t42\t11\n",
      "INFO:interface:stdout 2015-11-11T10:31:26.563137:47\t2\t3.41\t36\t31\t11\t35.5\t31\t11\n",
      "INFO:interface:stdout 2015-11-11T10:31:26.563137:46\t1\t2.87\t54\t36\t74\t54\t36\t74\n",
      "INFO:interface:stdout 2015-11-11T10:31:26.563137:45\t1\t3.02\t58\t43\t72\t58\t43\t72\n",
      "INFO:interface:stdout 2015-11-11T10:31:26.563137:44\t1\t2.94\t59\t55\t71\t59\t55\t71\n",
      "INFO:interface:stdout 2015-11-11T10:31:26.563137:43\t1\t2.98\t29\t30\t71\t29\t30\t71\n",
      "INFO:interface:stdout 2015-11-11T10:31:26.563137:42\t1\t2.83\t64\t45\t69\t64\t45\t69\n",
      "INFO:interface:stdout 2015-11-11T10:31:26.563137:41\t1\t2.84\t19\t46\t68\t19\t46\t68\n",
      "INFO:interface:stdout 2015-11-11T10:31:26.563137:40\t1\t2.85\t30\t60\t67\t30\t60\t67\n",
      "INFO:interface:stdout 2015-11-11T10:31:26.563137:39\t1\t2.91\t75\t45\t66\t75\t45\t66\n",
      "INFO:interface:stdout 2015-11-11T10:31:26.563137:38\t1\t2.83\t61\t79\t64\t61\t79\t64\n",
      "INFO:interface:stdout 2015-11-11T10:31:26.563137:37\t1\t3.23\t31\t35\t64\t31\t35\t64\n",
      "INFO:interface:stdout 2015-11-11T10:31:26.563137:36\t1\t2.98\t53\t58\t60\t53\t58\t60\n",
      "INFO:interface:stdout 2015-11-11T10:31:26.563137:35\t1\t3.15\t39\t33\t59\t39\t33\t59\n",
      "INFO:interface:stdout 2015-11-11T10:31:26.563137:34\t1\t2.89\t51\t62\t58\t51\t62\t58\n",
      "INFO:interface:stdout 2015-11-11T10:31:26.563137:33\t1\t2.81\t43\t59\t57\t43\t59\t57\n",
      "INFO:interface:stdout 2015-11-11T10:31:26.563137:32\t1\t3.08\t71\t51\t56\t71\t51\t56\n",
      "INFO:interface:stdout 2015-11-11T10:31:26.563137:31\t1\t2.92\t82\t49\t55\t82\t49\t55\n",
      "INFO:interface:stdout 2015-11-11T10:31:26.563137:30\t1\t2.91\t45\t41\t53\t45\t41\t53\n",
      "INFO:interface:stdout 2015-11-11T10:31:26.563137:29\t1\t2.92\t47\t19\t53\t47\t19\t53\n",
      "INFO:interface:stdout 2015-11-11T10:31:26.563137:28\t1\t2.98\t41\t81\t52\t41\t81\t52\n",
      "INFO:interface:stdout 2015-11-11T10:31:26.563137:27\t1\t2.84\t21\t75\t51\t21\t75\t51\n",
      "INFO:interface:stdout 2015-11-11T10:31:26.563137:26\t1\t2.97\t33\t44\t51\t33\t44\t51\n",
      "INFO:interface:stdout 2015-11-11T10:31:26.563137:25\t1\t2.89\t62\t89\t50\t62\t89\t50\n",
      "INFO:interface:stdout 2015-11-11T10:31:26.563137:24\t1\t2.85\t14\t50\t50\t14\t50\t50\n",
      "INFO:interface:stdout 2015-11-11T10:31:26.563137:23\t1\t2.86\t55\t72\t48\t55\t72\t48\n",
      "INFO:interface:stdout 2015-11-11T10:31:26.563137:22\t1\t2.96\t17\t39\t48\t17\t39\t48\n",
      "INFO:interface:stdout 2015-11-11T10:31:26.563137:21\t1\t3.14\t38\t79\t45\t38\t79\t45\n",
      "INFO:interface:stdout 2015-11-11T10:31:26.563137:20\t1\t2.85\t18\t32\t45\t18\t32\t45\n",
      "INFO:interface:stdout 2015-11-11T10:31:26.563137:19\t1\t2.92\t46\t12\t45\t46\t12\t45\n",
      "INFO:interface:stdout 2015-11-11T10:31:26.563137:18\t1\t3.23\t17\t81\t44\t17\t81\t44\n",
      "INFO:interface:stdout 2015-11-11T10:31:26.563137:17\t1\t3.2\t49\t75\t44\t49\t75\t44\n",
      "INFO:interface:stdout 2015-11-11T10:31:26.563137:16\t1\t2.99\t50\t42\t43\t50\t42\t43\n",
      "INFO:interface:stdout 2015-11-11T10:31:26.563137:15\t1\t2.93\t33\t83\t42\t33\t83\t42\n",
      "INFO:interface:stdout 2015-11-11T10:31:26.563137:14\t1\t3.05\t35\t29\t42\t35\t29\t42\n",
      "INFO:interface:stdout 2015-11-11T10:31:26.563137:13\t1\t2.84\t82\t55\t41\t82\t55\t41\n",
      "INFO:interface:stdout 2015-11-11T10:31:26.563137:12\t1\t2.83\t21\t54\t41\t21\t54\t41\n",
      "INFO:interface:stdout 2015-11-11T10:31:26.563137:11\t1\t2.81\t53\t24\t41\t53\t24\t41\n",
      "INFO:interface:stdout 2015-11-11T10:31:26.563137:10\t1\t2.83\t49\t10\t37\t49\t10\t37\n",
      "INFO:interface:stdout 2015-11-11T10:31:26.563137:9\t1\t2.9\t18\t43\t32\t18\t43\t32\n",
      "INFO:interface:stdout 2015-11-11T10:31:26.563137:8\t1\t2.86\t61\t64\t26\t61\t64\t26\n",
      "INFO:interface:stdout 2015-11-11T10:31:26.563137:7\t1\t2.9\t54\t49\t23\t54\t49\t23\n",
      "INFO:interface:stdout 2015-11-11T10:31:26.563137:6\t1\t3.09\t39\t57\t20\t39\t57\t20\n",
      "INFO:interface:stdout 2015-11-11T10:31:26.563137:5\t1\t3.02\t58\t58\t19\t58\t58\t19\n",
      "INFO:interface:stdout 2015-11-11T10:31:26.563137:4\t1\t2.94\t50\t38\t19\t50\t38\t19\n",
      "INFO:interface:stdout 2015-11-11T10:31:26.563137:3\t1\t3.13\t32\t67\t14\t32\t67\t14\n",
      "INFO:interface:stdout 2015-11-11T10:31:26.563137:2\t1\t2.81\t67\t20\t14\t67\t20\t14\n",
      "INFO:interface:stdout 2015-11-11T10:31:26.563137:1\t1\t2.84\t38\t33\t7\t38\t33\t7\n"
     ]
    }
   ],
   "source": [
    "tcut=scipy.stats.t.ppf(1-pthresh,nsubs-1)\n",
    "cl = fsl.Cluster()\n",
    "cl.inputs.threshold = tcut\n",
    "cl.inputs.in_file = 'regressor_tstat.nii.gz'\n",
    "cl.inputs.out_index_file='tstat_cluster_index.nii.gz'\n",
    "results=cl.run()"
   ]
  },
  {
   "cell_type": "code",
   "execution_count": 116,
   "metadata": {
    "collapsed": true
   },
   "outputs": [],
   "source": [
    "clusterimg=nibabel.load(cl.inputs.out_index_file)\n",
    "clusterdata=clusterimg.get_data()\n",
    "indices=numpy.unique(clusterdata)\n"
   ]
  },
  {
   "cell_type": "code",
   "execution_count": 117,
   "metadata": {
    "collapsed": false
   },
   "outputs": [
    {
     "name": "stdout",
     "output_type": "stream",
     "text": [
      "[[ 1.          0.84329273]\n",
      " [ 0.84329273  1.        ]]\n"
     ]
    },
    {
     "data": {
      "image/png": "[encoded data removed]",
      "text/plain": [
       "<matplotlib.figure.Figure at 0x10bfb0510>"
      ]
     },
     "metadata": {},
     "output_type": "display_data"
    }
   ],
   "source": [
    "clustersize=numpy.zeros(len(indices))\n",
    "clustermean=numpy.zeros((len(indices),nsubs))\n",
    "for c in range(1,len(indices)):\n",
    "    indvox=numpy.where(clusterdata==c)    \n",
    "    clustersize[c]=len(indvox[0])\n",
    "    for i in range(nsubs):\n",
    "        tmp=data[:,:,:,i]\n",
    "        clustermean[c,i]=numpy.mean(tmp[indvox])\n",
    "corrs[seed]=numpy.corrcoef(regressor.T,clustermean[-1])\n",
    "print corrs[seed]\n",
    "plt.scatter(regressor.T,clustermean[-1])\n",
    "plt.title('Correlation = %0.3f'%corrs[seed][0,1],fontsize=14)\n",
    "plt.xlabel('Fake behavioral regressor',fontsize=18)\n",
    "plt.ylabel('Fake fMRI data',fontsize=18)\n",
    "\n",
    "plt.savefig('scatter.png')"
   ]
  },
  {
   "cell_type": "code",
   "execution_count": 118,
   "metadata": {
    "collapsed": false
   },
   "outputs": [],
   "source": [
    "# make thresholded stats image\n",
    "tstat=nibabel.load('regressor_tstat.nii.gz').get_data()\n",
    "thresh_t=clusterdata.copy()\n",
    "cutoff=numpy.min(numpy.where(clustersize>cthresh))\n",
    "thresh_t[thresh_t<cutoff]=0\n",
    "thresh_t=thresh_t*tstat\n",
    "thresh_t_img=nibabel.Nifti1Image(thresh_t,mask.get_affine(),mask.get_header())"
   ]
  },
  {
   "cell_type": "code",
   "execution_count": 119,
   "metadata": {
    "collapsed": false
   },
   "outputs": [
    {
     "data": {
      "image/png": "[encoded data removed]",
      "text/plain": [
       "<matplotlib.figure.Figure at 0x102390390>"
      ]
     },
     "metadata": {},
     "output_type": "display_data"
    }
   ],
   "source": [
    "mid=len(indvox[0])/2\n",
    "coords=numpy.array([indvox[0][mid],indvox[1][mid],indvox[2][mid],1]).T\n",
    "mni=mask.get_qform().dot(coords)\n",
    "nilearn.plotting.plot_stat_map(thresh_t_img,\n",
    "        os.path.join(os.getenv('FSLDIR'),'data/standard/MNI152_T1_2mm_brain.nii.gz'),\n",
    "                              threshold=cl.inputs.threshold,\n",
    "                               cut_coords=mni[:3])\n",
    "plt.savefig('slices.png')"
   ]
  },
  {
   "cell_type": "code",
   "execution_count": 120,
   "metadata": {
    "collapsed": false
   },
   "outputs": [
    {
     "data": {
      "image/png": "[encoded data removed]",
      "text/plain": [
       "<matplotlib.figure.Figure at 0x10ab8b1d0>"
      ]
     },
     "metadata": {},
     "output_type": "display_data"
    }
   ],
   "source": [
    "# Now examine fit to another dataset\n",
    "newdata_clustermean=numpy.zeros(nsubs)\n",
    "for i in range(nsubs):\n",
    "    tmp=data2[:,:,:,i]\n",
    "    newdata_clustermean[i]=numpy.mean(tmp[indvox])\n",
    "\n",
    "plt.scatter(regressor.T,newdata_clustermean)\n",
    "plt.title('New data: Correlation = %0.3f'%numpy.corrcoef(regressor.T,newdata_clustermean)[0,1],fontsize=14)\n",
    "plt.xlabel('Fake behavioral regressor',fontsize=18)\n",
    "plt.ylabel('Fake fMRI data',fontsize=18)\n",
    "plt.savefig('scatter_newdata.png')"
   ]
  },
  {
   "cell_type": "code",
   "execution_count": 121,
   "metadata": {
    "collapsed": true
   },
   "outputs": [],
   "source": [
    "from sklearn import cross_validation\n",
    "from statsmodels.regression.linear_model import OLS\n",
    "from sklearn.linear_model import LinearRegression\n",
    "\n",
    "def get_sample_balcv(x,y,nfolds,pthresh=0.8):\n",
    "    \"\"\"\n",
    "    This function uses anova across CV folds to find\n",
    "    a set of folds that are balanced in their distriutions\n",
    "    of the X value - see Kohavi, 1995\n",
    "    \"\"\"\n",
    "\n",
    "    nsubs=len(x)\n",
    "\n",
    "    # cycle through until we find a split that is good enough\n",
    "    \n",
    "    good_split=0\n",
    "    while good_split==0:\n",
    "        cv=cross_validation.KFold(n=nsubs,n_folds=nfolds,shuffle=True)\n",
    "        ctr=0\n",
    "        idx=numpy.zeros((nsubs,nfolds)) # this is the design matrix\n",
    "        for train,test in cv:\n",
    "            idx[test,ctr]=1\n",
    "            ctr+=1\n",
    "\n",
    "        lm_x=OLS(x-numpy.mean(x),idx).fit()\n",
    "        lm_y=OLS(y-numpy.mean(y),idx).fit()\n",
    "\n",
    "        if lm_x.f_pvalue>pthresh and lm_y.f_pvalue>pthresh:\n",
    "            good_split=1\n",
    "\n",
    "    # do some reshaping needed for the sklearn linear regression function\n",
    "    x=x.reshape((nsubs,1))\n",
    "    y=y.reshape((nsubs,1))\n",
    "    \n",
    "    pred=numpy.zeros((nsubs,1))\n",
    "    \n",
    "    for train,test in cv:\n",
    "        lr=LinearRegression()\n",
    "        lr.fit(x[train,:],y[train,:])\n",
    "        pred[test]=lr.predict(x[test])\n",
    "\n",
    "    return numpy.corrcoef(pred[:,0],y[:,0])[0,1],pred\n"
   ]
  },
  {
   "cell_type": "code",
   "execution_count": 122,
   "metadata": {
    "collapsed": false
   },
   "outputs": [],
   "source": [
    "c,pred=get_sample_balcv(regressor,clustermean[-1,:].T,4)"
   ]
  },
  {
   "cell_type": "code",
   "execution_count": 123,
   "metadata": {
    "collapsed": false
   },
   "outputs": [
    {
     "data": {
      "image/png": "[encoded data removed]",
      "text/plain": [
       "<matplotlib.figure.Figure at 0x12204cb90>"
      ]
     },
     "metadata": {},
     "output_type": "display_data"
    }
   ],
   "source": [
    "plt.scatter(clustermean[-1,:],pred)\n",
    "plt.title('Crossvalidation: Correlation = %0.3f'%c,fontsize=14)\n",
    "plt.xlabel('Actual value',fontsize=18)\n",
    "plt.ylabel('Predicted value',fontsize=18)\n",
    "plt.savefig('scatter_cv.png')"
   ]
  },
  {
   "cell_type": "code",
   "execution_count": 124,
   "metadata": {
    "collapsed": false
   },
   "outputs": [
    {
     "data": {
      "text/plain": [
       "85077.0"
      ]
     },
     "execution_count": 124,
     "metadata": {},
     "output_type": "execute_result"
    }
   ],
   "source": [
    "seed"
   ]
  },
  {
   "cell_type": "code",
   "execution_count": null,
   "metadata": {
    "collapsed": true
   },
   "outputs": [],
   "source": []
  }
 ],
 "metadata": {
  "kernelspec": {
   "display_name": "Python 3",
   "language": "python",
   "name": "python3"
  },
  "language_info": {
   "codemirror_mode": {
    "name": "ipython",
    "version": 3
   },
   "file_extension": ".py",
   "mimetype": "text/x-python",
   "name": "python",
   "nbconvert_exporter": "python",
   "pygments_lexer": "ipython3",
   "version": "3.5.1"
  }
 },
 "nbformat": 4,
 "nbformat_minor": 0
}
