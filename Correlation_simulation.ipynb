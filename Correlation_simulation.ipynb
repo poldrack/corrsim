{
 "cells": [
  {
   "cell_type": "markdown",
   "metadata": {},
   "source": [
    "This notebook generates random synthetic fMRI data and a random behavioral regressor, and performs a standard univariate analysis to find correlations between the two.  It is meant to demonstrate how easy it is to find seemingly impressive correlations with fMRI data when multiple tests are not properly controlled for.  \n",
    "\n",
    "In order to run this code, you must first install the standard Scientific Python stack (e.g. using [anaconda](https://www.continuum.io/downloads)) along with following additional dependencies:\n",
    "* [nibabel](http://nipy.org/nibabel/)\n",
    "* [nilearn](http://nilearn.github.io)\n",
    "* [statsmodels](http://statsmodels.sourceforge.net)\n",
    "* [nipype](http://nipype.readthedocs.io/en/latest/)\n",
    "\n",
    "In addition, this notebook assumes that [FSL](http://fsl.fmrib.ox.ac.uk/fsl/fslwiki/) is installed and that the FSLDIR environment variable is defined.\n"
   ]
  },
  {
   "cell_type": "code",
   "execution_count": 57,
   "metadata": {
    "collapsed": false
   },
   "outputs": [],
   "source": [
    "import numpy\n",
    "import nibabel\n",
    "import os\n",
    "import nilearn.plotting\n",
    "import matplotlib.pyplot as plt\n",
    "from statsmodels.regression.linear_model import OLS\n",
    "import nipype.interfaces.fsl as fsl\n",
    "import scipy.stats\n",
    "\n",
    "if not 'FSLDIR' in os.environ.keys():\n",
    "    raise Exception('This notebook requires that FSL is installed and the FSLDIR environment variable is set')\n",
    "\n",
    "%matplotlib inline\n"
   ]
  },
  {
   "cell_type": "markdown",
   "metadata": {},
   "source": [
    "Set up default parameters.  We use 32 subjects, which is the median sample size of the set of fMRI studies published between 2011 and 2015 that were estimated from Neurosynth in the paper.  We use a heuristic correction for multiple comparisons of p<0.001 and 10 voxels, like that show by Eklund et al. (2016, PNAS) to result in Type I error rates of 0.6-0.9."
   ]
  },
  {
   "cell_type": "code",
   "execution_count": 58,
   "metadata": {
    "collapsed": true
   },
   "outputs": [],
   "source": [
    "pthresh=0.001  # cluster forming threshold\n",
    "cthresh=10     # cluster extent threshold\n",
    "nsubs=32       # number of subjects"
   ]
  },
  {
   "cell_type": "markdown",
   "metadata": {},
   "source": [
    "In order to recreate the figure from the paper exactly, we need to fix the random seed so that it will generate exactly the same random data.  If you wish to generate new data, then set the recreate_paper_figure variable to False and rerun the notebook.\n"
   ]
  },
  {
   "cell_type": "code",
   "execution_count": 59,
   "metadata": {
    "collapsed": false
   },
   "outputs": [],
   "source": [
    "recreate_paper_figure=True\n",
    "if recreate_paper_figure:\n",
    "    seed=61974\n",
    "else:\n",
    "    seed=numpy.ceil(numpy.random.rand()*100000).astype('int')\n",
    "    print(seed)\n",
    "\n",
    "numpy.random.seed(seed)"
   ]
  },
  {
   "cell_type": "markdown",
   "metadata": {},
   "source": [
    "Use the standard MNI152 2mm brain mask as the mask for the generated data\n",
    "\n"
   ]
  },
  {
   "cell_type": "code",
   "execution_count": 60,
   "metadata": {
    "collapsed": false
   },
   "outputs": [
    {
     "name": "stdout",
     "output_type": "stream",
     "text": [
      "Mask includes 228483 voxels\n"
     ]
    }
   ],
   "source": [
    "maskimg=os.path.join(os.getenv('FSLDIR'),'data/standard/MNI152_T1_2mm_brain_mask.nii.gz')\n",
    "mask=nibabel.load(maskimg)\n",
    "maskdata=mask.get_data()\n",
    "maskvox=numpy.where(maskdata>0)\n",
    "print('Mask includes %d voxels'%len(maskvox[0]))"
   ]
  },
  {
   "cell_type": "markdown",
   "metadata": {},
   "source": [
    "Generate a dataset for each subject.  fMRI data within the mask are generated using a Gaussian distribution (mean=1000, standard deviation=100).  Behavioral data are generated using a Gaussian distribution (mean=100, standard deviation=1).\n",
    "\n"
   ]
  },
  {
   "cell_type": "code",
   "execution_count": 61,
   "metadata": {
    "collapsed": false
   },
   "outputs": [],
   "source": [
    "imgmean=1000    # mean activation within mask\n",
    "imgstd=100      # standard deviation of noise within mask\n",
    "behavmean=100   # mean of behavioral regressor\n",
    "behavstd=1      # standard deviation of behavioral regressor\n",
    "\n",
    "data=numpy.zeros((maskdata.shape + (nsubs,)))\n",
    "\n",
    "for i in range(nsubs):\n",
    "    tmp=numpy.zeros(maskdata.shape)\n",
    "    tmp[maskvox]=numpy.random.randn(len(maskvox[0]))*imgstd+imgmean\n",
    "    data[:,:,:,i]=tmp\n",
    "\n",
    "newimg=nibabel.Nifti1Image(data,mask.get_affine(),mask.get_header())\n",
    "newimg.to_filename('fakedata.nii.gz')\n",
    "regressor=numpy.random.randn(nsubs,1)*behavstd+behavmean\n",
    "numpy.savetxt('regressor.txt',regressor)"
   ]
  },
  {
   "cell_type": "markdown",
   "metadata": {},
   "source": [
    "Spatially smooth data using a 6 mm FWHM Gaussian kernel"
   ]
  },
  {
   "cell_type": "code",
   "execution_count": 62,
   "metadata": {
    "collapsed": false
   },
   "outputs": [
    {
     "data": {
      "text/plain": [
       "<nipype.interfaces.base.InterfaceResult at 0x12bec40f0>"
      ]
     },
     "execution_count": 62,
     "metadata": {},
     "output_type": "execute_result"
    }
   ],
   "source": [
    "smoothing_fwhm=6 # FWHM in millimeters\n",
    "\n",
    "smooth=fsl.IsotropicSmooth(fwhm=smoothing_fwhm,\n",
    "                           in_file='fakedata.nii.gz',\n",
    "                           out_file='fakedata_smooth.nii.gz')\n",
    "smooth.run()"
   ]
  },
  {
   "cell_type": "markdown",
   "metadata": {},
   "source": [
    "Use FSL's GLM tool to run a regression at each voxel"
   ]
  },
  {
   "cell_type": "code",
   "execution_count": 63,
   "metadata": {
    "collapsed": false
   },
   "outputs": [
    {
     "data": {
      "text/plain": [
       "<nipype.interfaces.base.InterfaceResult at 0x12d208ba8>"
      ]
     },
     "execution_count": 63,
     "metadata": {},
     "output_type": "execute_result"
    }
   ],
   "source": [
    "glm = fsl.GLM(in_file='fakedata_smooth.nii.gz', \n",
    "              design='regressor.txt', \n",
    "              out_t_name='regressor_tstat.nii.gz',\n",
    "             demean=True)\n",
    "glm.run()"
   ]
  },
  {
   "cell_type": "markdown",
   "metadata": {},
   "source": [
    "Use FSL's cluster tool to identify clusters of activation that exceed the specified cluster-forming threshold"
   ]
  },
  {
   "cell_type": "code",
   "execution_count": 64,
   "metadata": {
    "collapsed": false
   },
   "outputs": [],
   "source": [
    "tcut=scipy.stats.t.ppf(1-pthresh,nsubs-1)\n",
    "cl = fsl.Cluster()\n",
    "cl.inputs.threshold = tcut\n",
    "cl.inputs.in_file = 'regressor_tstat.nii.gz'\n",
    "cl.inputs.out_index_file='tstat_cluster_index.nii.gz'\n",
    "results=cl.run()"
   ]
  },
  {
   "cell_type": "markdown",
   "metadata": {
    "collapsed": true
   },
   "source": [
    "Generate a plot showing the brain-behavior relation from the top cluster"
   ]
  },
  {
   "cell_type": "code",
   "execution_count": 65,
   "metadata": {
    "collapsed": false
   },
   "outputs": [
    {
     "name": "stdout",
     "output_type": "stream",
     "text": [
      "Found 73 clusters exceeding p<0.001 and 10 voxel extent threshold\n",
      "Largest cluster: correlation=0.686, extent = 22 voxels\n"
     ]
    },
    {
     "data": {
      "image/png": "[encoded data removed]",
      "text/plain": [
       "<matplotlib.figure.Figure at 0x12be67240>"
      ]
     },
     "metadata": {},
     "output_type": "display_data"
    }
   ],
   "source": [
    "clusterimg=nibabel.load(cl.inputs.out_index_file)\n",
    "clusterdata=clusterimg.get_data()\n",
    "indices=numpy.unique(clusterdata)\n",
    "\n",
    "clustersize=numpy.zeros(len(indices))\n",
    "clustermean=numpy.zeros((len(indices),nsubs))\n",
    "indvox={}\n",
    "for c in range(1,len(indices)):\n",
    "    indvox[c]=numpy.where(clusterdata==c)    \n",
    "    clustersize[c]=len(indvox[c][0])\n",
    "    for i in range(nsubs):\n",
    "        tmp=data[:,:,:,i]\n",
    "        clustermean[c,i]=numpy.mean(tmp[indvox[c]])\n",
    "corr=numpy.corrcoef(regressor.T,clustermean[-1])\n",
    "\n",
    "print('Found %d clusters exceeding p<%0.3f and %d voxel extent threshold'%(c,pthresh,cthresh))\n",
    "print('Largest cluster: correlation=%0.3f, extent = %d voxels'%(corr[0,1],len(indvox[c][0])))\n",
    "\n",
    "# set cluster to show - 0 is the largest, 1 the second largest, and so on\n",
    "cluster_to_show=0\n",
    "\n",
    "# translate this variable into the index of indvox\n",
    "cluster_to_show_idx=len(indices)-cluster_to_show-1\n",
    "\n",
    "# plot the (circular) relation between fMRI signal and \n",
    "# behavioral regressor in the chosen cluster\n",
    "\n",
    "plt.scatter(regressor.T,clustermean[cluster_to_show_idx])\n",
    "plt.title('Correlation = %0.3f'%corr[0,1],fontsize=14)\n",
    "plt.xlabel('Fake behavioral regressor',fontsize=18)\n",
    "plt.ylabel('Fake fMRI data',fontsize=18)\n",
    "m, b = numpy.polyfit(regressor[:,0], clustermean[cluster_to_show_idx], 1)\n",
    "axes = plt.gca()\n",
    "X_plot = numpy.linspace(axes.get_xlim()[0],axes.get_xlim()[1],100)\n",
    "plt.plot(X_plot, m*X_plot + b, '-')\n",
    "plt.savefig('scatter.png',dpi=600)"
   ]
  },
  {
   "cell_type": "markdown",
   "metadata": {},
   "source": [
    "Generate a thresholded statistics image for display"
   ]
  },
  {
   "cell_type": "code",
   "execution_count": 66,
   "metadata": {
    "collapsed": false
   },
   "outputs": [],
   "source": [
    "tstat=nibabel.load('regressor_tstat.nii.gz').get_data()\n",
    "thresh_t=clusterdata.copy()\n",
    "cutoff=numpy.min(numpy.where(clustersize>cthresh))\n",
    "thresh_t[thresh_t<cutoff]=0\n",
    "thresh_t=thresh_t*tstat\n",
    "thresh_t_img=nibabel.Nifti1Image(thresh_t,mask.get_affine(),mask.get_header())"
   ]
  },
  {
   "cell_type": "markdown",
   "metadata": {},
   "source": [
    "Generate a figure showing the location of the selected activation focus."
   ]
  },
  {
   "cell_type": "code",
   "execution_count": 67,
   "metadata": {
    "collapsed": false
   },
   "outputs": [
    {
     "name": "stderr",
     "output_type": "stream",
     "text": [
      "/Users/poldrack/anaconda/envs/py3k/lib/python3.5/site-packages/ipykernel/__main__.py:2: VisibleDeprecationWarning: using a non-integer number instead of an integer will result in an error in the future\n",
      "  from ipykernel import kernelapp as app\n",
      "/Users/poldrack/anaconda/envs/py3k/lib/python3.5/site-packages/ipykernel/__main__.py:3: VisibleDeprecationWarning: using a non-integer number instead of an integer will result in an error in the future\n",
      "  app.launch_new_instance()\n",
      "/Users/poldrack/anaconda/envs/py3k/lib/python3.5/site-packages/ipykernel/__main__.py:4: VisibleDeprecationWarning: using a non-integer number instead of an integer will result in an error in the future\n"
     ]
    },
    {
     "data": {
      "image/png": "[encoded data removed]",
      "text/plain": [
       "<matplotlib.figure.Figure at 0x11305b5f8>"
      ]
     },
     "metadata": {},
     "output_type": "display_data"
    }
   ],
   "source": [
    "mid=len(indvox[cluster_to_show_idx][0])/2\n",
    "coords=numpy.array([indvox[cluster_to_show_idx][0][mid],\n",
    "                    indvox[cluster_to_show_idx][1][mid],\n",
    "                    indvox[cluster_to_show_idx][2][mid],1]).T\n",
    "mni=mask.get_qform().dot(coords)\n",
    "nilearn.plotting.plot_stat_map(thresh_t_img,\n",
    "        os.path.join(os.getenv('FSLDIR'),'data/standard/MNI152_T1_2mm_brain.nii.gz'),\n",
    "                              threshold=cl.inputs.threshold,\n",
    "                               cut_coords=mni[:3])\n",
    "plt.savefig('slices.png',dpi=600)"
   ]
  }
 ],
 "metadata": {
  "kernelspec": {
   "display_name": "Python 3",
   "language": "python",
   "name": "python3"
  },
  "language_info": {
   "codemirror_mode": {
    "name": "ipython",
    "version": 3
   },
   "file_extension": ".py",
   "mimetype": "text/x-python",
   "name": "python",
   "nbconvert_exporter": "python",
   "pygments_lexer": "ipython3",
   "version": "3.5.1"
  }
 },
 "nbformat": 4,
 "nbformat_minor": 0
}
